{
 "nbformat": 4,
 "nbformat_minor": 2,
 "metadata": {
  "language_info": {
   "name": "python",
   "codemirror_mode": {
    "name": "ipython",
    "version": 3
   },
   "version": "3.7.6-final"
  },
  "orig_nbformat": 2,
  "file_extension": ".py",
  "mimetype": "text/x-python",
  "name": "python",
  "npconvert_exporter": "python",
  "pygments_lexer": "ipython3",
  "version": 3,
  "kernelspec": {
   "name": "python37664bitautometaconda0add0d3f0e5d44169cfdd8f1974ea4f6",
   "display_name": "Python 3.7.6 64-bit ('autometa': conda)"
  }
 },
 "cells": [
  {
   "cell_type": "code",
   "execution_count": 154,
   "metadata": {},
   "outputs": [],
   "source": [
    "# read data\n",
    "import pandas as pd\n",
    "df = pd.read_csv(\"master.tsv\", sep='\\t')"
   ]
  },
  {
   "cell_type": "code",
   "execution_count": 155,
   "metadata": {},
   "outputs": [],
   "source": [
    "# add a primary key (just a number from 0 to length\n",
    "# of data but starting at index 1)\n",
    "df['pk'] = [i for i in range(len(df)+1)[1::]]"
   ]
  },
  {
   "cell_type": "code",
   "execution_count": 156,
   "metadata": {},
   "outputs": [],
   "source": [
    "# associate a job with this binning result\n",
    "# using <model>_id\n",
    "df[\"job_id\"] = 1"
   ]
  },
  {
   "cell_type": "code",
   "execution_count": 157,
   "metadata": {},
   "outputs": [],
   "source": [
    "# add model name\n",
    "df['model'] = 'app.ModelName'"
   ]
  },
  {
   "cell_type": "code",
   "execution_count": 205,
   "metadata": {},
   "outputs": [
    {
     "data": {
      "text/plain": "{'contig': 'NODE_235_length_161117_cov_116.709',\n 'cluster': 'bin_0001',\n 'completeness': 58.99280548095703,\n 'purity': 96.34146118164062,\n 'taxid': 1501145,\n 'superkingdom': 'bacteria',\n 'phylum': 'cyanobacteria',\n 'class': 'unclassified',\n 'order': 'synechococcales',\n 'family': 'leptolyngbyaceae',\n 'genus': 'neosynechococcus',\n 'species': 'neosynechococcus sphagnicola',\n 'x': -2.245025873184204,\n 'y': -7.394453525543213,\n 'job_id': 1}"
     },
     "execution_count": 205,
     "metadata": {},
     "output_type": "execute_result"
    }
   ],
   "source": [
    "fields = df.drop(labels=['model','pk'], axis=1).to_dict('index')\n",
    "fields[0]"
   ]
  },
  {
   "cell_type": "code",
   "execution_count": 206,
   "metadata": {},
   "outputs": [
    {
     "data": {
      "text/plain": "{'contig': 'NODE_235_length_161117_cov_116.709',\n 'cluster': 'bin_0001',\n 'completeness': 58.992805,\n 'purity': 96.34146,\n 'taxid': 1501145,\n 'superkingdom': 'bacteria',\n 'phylum': 'cyanobacteria',\n 'class': 'unclassified',\n 'order': 'synechococcales',\n 'family': 'leptolyngbyaceae',\n 'genus': 'neosynechococcus',\n 'species': 'neosynechococcus sphagnicola',\n 'x': -2.2450259,\n 'y': -7.3944535,\n 'pk': 1,\n 'job_id': 1,\n 'model': 'app.ModelName'}"
     },
     "execution_count": 206,
     "metadata": {},
     "output_type": "execute_result"
    }
   ],
   "source": [
    "df.iloc[0].to_dict()"
   ]
  },
  {
   "cell_type": "code",
   "execution_count": 208,
   "metadata": {},
   "outputs": [],
   "source": [
    "fixture = []\n",
    "for item in fields:\n",
    "    # initialize a temporary dict\n",
    "    dick_of_dicks = {}\n",
    "    dick_of_dicks['model'] = df['model'][item]\n",
    "    dick_of_dicks['pk'] = df['pk'][item]\n",
    "\n",
    "    # add one row of the dataframe as a dict under the name \"fields\"\n",
    "    dick_of_dicks['fields'] = df.drop(['model','pk'], axis=1).iloc[item].to_dict()\n",
    "\n",
    "    # append it to the list created in the beginning\n",
    "    fixture.append(dick_of_dicks)"
   ]
  },
  {
   "cell_type": "code",
   "execution_count": 211,
   "metadata": {},
   "outputs": [
    {
     "data": {
      "text/plain": "[{'model': 'app.ModelName',\n  'pk': 1,\n  'fields': {'contig': 'NODE_235_length_161117_cov_116.709',\n   'cluster': 'bin_0001',\n   'completeness': 58.992805,\n   'purity': 96.34146,\n   'taxid': 1501145,\n   'superkingdom': 'bacteria',\n   'phylum': 'cyanobacteria',\n   'class': 'unclassified',\n   'order': 'synechococcales',\n   'family': 'leptolyngbyaceae',\n   'genus': 'neosynechococcus',\n   'species': 'neosynechococcus sphagnicola',\n   'x': -2.2450259,\n   'y': -7.3944535,\n   'job_id': 1}},\n {'model': 'app.ModelName',\n  'pk': 2,\n  'fields': {'contig': 'NODE_256_length_152979_cov_113.619',\n   'cluster': 'bin_0001',\n   'completeness': 58.992805,\n   'purity': 96.34146,\n   'taxid': 1501145,\n   'superkingdom': 'bacteria',\n   'phylum': 'cyanobacteria',\n   'class': 'unclassified',\n   'order': 'synechococcales',\n   'family': 'leptolyngbyaceae',\n   'genus': 'neosynechococcus',\n   'species': 'neosynechococcus sphagnicola',\n   'x': -2.322199,\n   'y': -7.461405,\n   'job_id': 1}},\n {'model': 'app.ModelName',\n  'pk': 3,\n  'fields': {'contig': 'NODE_268_length_147092_cov_114.454',\n   'cluster': 'bin_0001',\n   'completeness': 58.992805,\n   'purity': 96.34146,\n   'taxid': 1501145,\n   'superkingdom': 'bacteria',\n   'phylum': 'cyanobacteria',\n   'class': 'unclassified',\n   'order': 'synechococcales',\n   'family': 'leptolyngbyaceae',\n   'genus': 'neosynechococcus',\n   'species': 'neosynechococcus sphagnicola',\n   'x': -2.288426,\n   'y': -7.4325814,\n   'job_id': 1}}]"
     },
     "execution_count": 211,
     "metadata": {},
     "output_type": "execute_result"
    }
   ],
   "source": [
    "fixture[0:3]"
   ]
  },
  {
   "cell_type": "code",
   "execution_count": 215,
   "metadata": {},
   "outputs": [
    {
     "data": {
      "text/plain": "'[{\"model\": \"app.ModelName\", \"pk\": 1, \"fields\": {\"contig\": \"NODE_235_length_161117_cov_116.709\", \"cluster\": \"bin_0001\", \"completeness\": 58.992805, \"purity\": 96.34146, \"taxid\": 1501145, \"superkingdom\": \"bacteria\", \"phylum\": \"cyanobacteria\", \"class\": \"unclassified\", \"order\": \"synechococcales\", \"family\": \"leptolyngbyaceae\", \"genus\": \"neosynechococcus\", \"species\": \"neosynechococcus sphagnicola\", \"x\": -2.2450259, \"y\": -7.3944535, \"job_id\": 1}}, {\"model\": \"app.ModelName\", \"pk\": 2, \"fields\": {\"contig\": \"NODE_256_length_152979_cov_113.619\", \"cluster\": \"bin_0001\", \"completeness\": 58.992805, \"purity\": 96.34146, \"taxid\": 1501145, \"superkingdom\": \"bacteria\", \"phylum\": \"cyanobacteria\", \"class\": \"unclassified\", \"order\": \"synechococcales\", \"family\": \"leptolyngbyaceae\", \"genus\": \"neosynechococcus\", \"species\": \"neosynechococcus sphagnicola\", \"x\": -2.322199, \"y\": -7.461405, \"job_id\": 1}}]'"
     },
     "execution_count": 215,
     "metadata": {},
     "output_type": "execute_result"
    }
   ],
   "source": [
    "repr(fixture[0:2]).replace(\"'\", \"\\\"\")"
   ]
  },
  {
   "cell_type": "code",
   "execution_count": 216,
   "metadata": {},
   "outputs": [],
   "source": [
    "with open('master.json', 'w') as jf:\n",
    "    jf.write(repr(fixture).replace(\"'\", \"\\\"\"))"
   ]
  }
 ]
}